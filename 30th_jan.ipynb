{
 "cells": [
  {
   "cell_type": "markdown",
   "id": "e41b2451-ed93-4492-a995-5b74b38b9165",
   "metadata": {},
   "source": [
    "Question 1."
   ]
  },
  {
   "cell_type": "code",
   "execution_count": 38,
   "id": "3c03ce15-15e2-408e-867e-90dc1e345abf",
   "metadata": {},
   "outputs": [
    {
     "name": "stdin",
     "output_type": "stream",
     "text": [
      " Total marks obtained by the student : 106\n"
     ]
    },
    {
     "name": "stdout",
     "output_type": "stream",
     "text": [
      "invalid numbers\n"
     ]
    }
   ],
   "source": [
    "marks = int(input(\" Total marks obtained by the student :\",))\n",
    "if marks > 90 and marks <= 100:\n",
    "    print('Congrats, you get \"A\" ')\n",
    "elif marks > 80 and marks <=90:\n",
    "    print('Congrats, you get \"B\" ')\n",
    "elif marks <=80 and marks >= 60:\n",
    "    print('Congrats, you get  \"C\" ')\n",
    "elif marks < 60 and marks >0 :\n",
    "    print('Sorry, you get \"D\" ')\n",
    "else:\n",
    "    print('invalid Marks')\n"
   ]
  },
  {
   "cell_type": "markdown",
   "id": "89c4f0a3-fa73-431a-9644-518e811e7cb5",
   "metadata": {},
   "source": [
    "Question 2."
   ]
  },
  {
   "cell_type": "code",
   "execution_count": 42,
   "id": "74c11088-44e1-4d12-aea4-4e8a62d50933",
   "metadata": {},
   "outputs": [
    {
     "name": "stdin",
     "output_type": "stream",
     "text": [
      "Cost price of the bike 50000\n"
     ]
    },
    {
     "name": "stdout",
     "output_type": "stream",
     "text": [
      "Cost price including tax : 52500.0\n"
     ]
    }
   ],
   "source": [
    "Bike_price = int(input('Cost price of the bike'))\n",
    "if Bike_price > 100000:\n",
    "    Bike_price = ('Cost price including tax :', Bike_price*1.15)\n",
    "    print(Bike_price)\n",
    "if Bike_price > 50000 and Bike_price <= 100000:\n",
    "    print('Cost price including tax :',Bike_price*1.10 )\n",
    "if Bike_price <= 50000 and Bike_price >=10000 :\n",
    "    print('Cost price including tax :', Bike_price*1.05)\n",
    "else:\n",
    "    print('Invalid price')\n",
    "    "
   ]
  },
  {
   "cell_type": "markdown",
   "id": "be2a201f-7b98-49af-9d41-573423f5a401",
   "metadata": {},
   "source": [
    "Question 3."
   ]
  },
  {
   "cell_type": "code",
   "execution_count": 44,
   "id": "62db3d2c-da17-48bc-b9a7-64d8d16301be",
   "metadata": {},
   "outputs": [
    {
     "name": "stdout",
     "output_type": "stream",
     "text": [
      "Red fort\n",
      "Taj Mahal\n",
      "Agra\n"
     ]
    }
   ],
   "source": [
    "Indian_city = {\"Delhi\":\"Red fort\", \"Agra\":\"Taj Mahal\",\"Jaipur\":\"Agra\"}\n",
    "print(Indian_city[\"Delhi\"])\n",
    "print(Indian_city[\"Agra\"])\n",
    "print(Indian_city[\"Jaipur\"])"
   ]
  },
  {
   "cell_type": "markdown",
   "id": "ade1b12b-6f75-41be-8b34-30276e0c1c87",
   "metadata": {},
   "source": [
    "Question 4. Check how many times a number divided by three before it is less than or equal to 10.\n"
   ]
  },
  {
   "cell_type": "code",
   "execution_count": 3,
   "id": "72f493b2-219d-42e1-a891-0fd6e2d8625f",
   "metadata": {},
   "outputs": [
    {
     "name": "stdin",
     "output_type": "stream",
     "text": [
      "fill number: 78\n"
     ]
    },
    {
     "name": "stdout",
     "output_type": "stream",
     "text": [
      "The number is divided by 3\n"
     ]
    }
   ],
   "source": [
    "## number divisible by three\n",
    "n = int(input('fill number:'))\n",
    "if n%3 == 0:\n",
    "    print('The number is divided by 3')\n",
    "else:\n",
    "    print('The number is not divided by 3')"
   ]
  },
  {
   "cell_type": "markdown",
   "id": "2d8381e4-709d-4890-b25f-75dda09b1a40",
   "metadata": {},
   "source": [
    "Question 5. Why and when to use while loop in python give a detailed description with example. \n",
    "\n",
    "Answer =  Python While Loop is used to execute a block of statements repeatedly until a given condition is satisfied.\n",
    "A while loop evaluates the condition\n",
    "If the condition evaluates to True, the code inside the while loop is executed.\n",
    "condition is evaluated again.\n",
    "This process continues until the condition is False.\n",
    "When condition evaluates to False, the loop stops."
   ]
  },
  {
   "cell_type": "code",
   "execution_count": 4,
   "id": "4afbe05e-1178-48c1-b614-0defbee5a608",
   "metadata": {},
   "outputs": [
    {
     "name": "stdout",
     "output_type": "stream",
     "text": [
      "1\n",
      "2\n",
      "3\n",
      "4\n",
      "5\n"
     ]
    }
   ],
   "source": [
    "## Example of while loop.\n",
    "i = 1\n",
    "n = 5\n",
    "while i <= n:\n",
    "    print(i)\n",
    "    i = i+1"
   ]
  },
  {
   "cell_type": "markdown",
   "id": "ff4d74dc-a8ae-4fff-baf9-04182a6df868",
   "metadata": {},
   "source": [
    "Question 6. Use nested while loop to print 3 different pattern."
   ]
  },
  {
   "cell_type": "code",
   "execution_count": 11,
   "id": "f2db03ea-720c-4f61-9751-23053376ce98",
   "metadata": {},
   "outputs": [
    {
     "name": "stdin",
     "output_type": "stream",
     "text": [
      "enter number of rows 4\n"
     ]
    },
    {
     "name": "stdout",
     "output_type": "stream",
     "text": [
      "* \n",
      "* * \n",
      "* * * \n",
      "* * * * \n"
     ]
    }
   ],
   "source": [
    "n = int(input('enter number of rows'))\n",
    "i = 1\n",
    "while i <= n:\n",
    "    j = 1\n",
    "    while j <= i:\n",
    "        print('*', end = \" \")\n",
    "        j += 1\n",
    "    print()\n",
    "    i += 1\n"
   ]
  },
  {
   "cell_type": "code",
   "execution_count": 15,
   "id": "97b31be1-bfcb-4d26-9d6f-e60df8b711a7",
   "metadata": {},
   "outputs": [
    {
     "name": "stdin",
     "output_type": "stream",
     "text": [
      "enter numbers of rows 4\n"
     ]
    },
    {
     "name": "stdout",
     "output_type": "stream",
     "text": [
      "* * * * \n",
      "* * * \n",
      "* * \n",
      "* \n"
     ]
    }
   ],
   "source": [
    "n = int(input('enter numbers of rows'))\n",
    "i = n\n",
    "while i >= 1:\n",
    "    j = 1\n",
    "    while j <= i:\n",
    "        print('*', end = \" \")\n",
    "        j += 1\n",
    "    print()\n",
    "    i -= 1"
   ]
  },
  {
   "cell_type": "code",
   "execution_count": 16,
   "id": "ae9cef2c-5697-4b0a-94f1-285db32ba4ac",
   "metadata": {},
   "outputs": [
    {
     "name": "stdin",
     "output_type": "stream",
     "text": [
      "enter numbers of rows 4\n"
     ]
    },
    {
     "name": "stdout",
     "output_type": "stream",
     "text": [
      "* * * * \n",
      "* * * \n",
      "* * \n",
      "* \n",
      "* \n",
      "* * \n",
      "* * * \n",
      "* * * * \n"
     ]
    }
   ],
   "source": [
    "n = int(input('enter numbers of rows'))\n",
    "i = n\n",
    "while i >= 1:\n",
    "    j = 1\n",
    "    while j <= i:\n",
    "        print('*', end = \" \")\n",
    "        j += 1\n",
    "    print()\n",
    "    i -= 1\n",
    "\n",
    "\n",
    "i = 1\n",
    "while i <= n:\n",
    "    j = 1\n",
    "    while j <= i:\n",
    "        print('*', end = \" \")\n",
    "        j += 1\n",
    "    print()\n",
    "    i += 1"
   ]
  },
  {
   "cell_type": "markdown",
   "id": "7850dd4d-eece-4d07-a5d2-d91c0e55753e",
   "metadata": {},
   "source": [
    "Question 7. Reverse a while loop to display numbers from 10 to 1."
   ]
  },
  {
   "cell_type": "code",
   "execution_count": 27,
   "id": "7c167349-cc39-43be-96bd-e6cce60184d4",
   "metadata": {},
   "outputs": [
    {
     "name": "stdout",
     "output_type": "stream",
     "text": [
      "10\n",
      "9\n",
      "8\n",
      "7\n",
      "6\n",
      "5\n",
      "4\n",
      "3\n",
      "2\n",
      "1\n"
     ]
    }
   ],
   "source": [
    "## Reverse while loop 10 to 1\n",
    "i = 10\n",
    "while i >= 1:\n",
    "    print(i)\n",
    "    i=i-1"
   ]
  },
  {
   "cell_type": "code",
   "execution_count": 22,
   "id": "b24719f5-4b01-4d96-977f-c8fb0c3c0536",
   "metadata": {},
   "outputs": [
    {
     "data": {
      "text/plain": [
       "9"
      ]
     },
     "execution_count": 22,
     "metadata": {},
     "output_type": "execute_result"
    }
   ],
   "source": []
  },
  {
   "cell_type": "code",
   "execution_count": null,
   "id": "b5615d72-f4ab-4977-b775-a69e06ba51c9",
   "metadata": {},
   "outputs": [],
   "source": []
  }
 ],
 "metadata": {
  "kernelspec": {
   "display_name": "Python 3 (ipykernel)",
   "language": "python",
   "name": "python3"
  },
  "language_info": {
   "codemirror_mode": {
    "name": "ipython",
    "version": 3
   },
   "file_extension": ".py",
   "mimetype": "text/x-python",
   "name": "python",
   "nbconvert_exporter": "python",
   "pygments_lexer": "ipython3",
   "version": "3.10.8"
  }
 },
 "nbformat": 4,
 "nbformat_minor": 5
}
